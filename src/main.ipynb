{
 "cells": [
  {
   "cell_type": "code",
   "execution_count": 3,
   "id": "46ac0b18",
   "metadata": {},
   "outputs": [],
   "source": [
    "import torch\n",
    "from PIL import Image\n",
    "from transformers import CLIPProcessor, CLIPModel"
   ]
  },
  {
   "cell_type": "code",
   "execution_count": null,
   "id": "2cc929c5",
   "metadata": {},
   "outputs": [],
   "source": [
    "# Load CLIP model from Hugging Face\n",
    "model_name = \"openai/clip-vit-base-patch32\"\n",
    "model = CLIPModel.from_pretrained(model_name)\n",
    "processor = CLIPProcessor.from_pretrained(model_name)"
   ]
  },
  {
   "cell_type": "code",
   "execution_count": null,
   "id": "23339a05",
   "metadata": {},
   "outputs": [],
   "source": [
    "# Load an example image from local folder\n",
    "image_path = \"../data/street.jpg\" #D:\\Github\\Urban-Scene-AI\\src\\data\n",
    "image = Image.open(image_path)"
   ]
  },
  {
   "cell_type": "code",
   "execution_count": null,
   "id": "cd1b69a0",
   "metadata": {},
   "outputs": [],
   "source": [
    "# Text labels for scene description\n",
    "labels = [\"busy city street\", \"traffic accident\", \"construction site\", \"empty road\"]"
   ]
  },
  {
   "cell_type": "code",
   "execution_count": null,
   "id": "fb862902",
   "metadata": {},
   "outputs": [],
   "source": [
    "# Process inputs\n",
    "inputs = processor(text=labels, images=image, return_tensors=\"pt\", padding=True)"
   ]
  },
  {
   "cell_type": "code",
   "execution_count": null,
   "id": "894ccaaf",
   "metadata": {},
   "outputs": [],
   "source": [
    "# Run inference\n",
    "outputs = model(**inputs)\n",
    "logits = outputs.logits_per_image\n",
    "probs = logits.softmax(dim=1).detach().numpy()"
   ]
  },
  {
   "cell_type": "code",
   "execution_count": null,
   "id": "678e5d58",
   "metadata": {},
   "outputs": [],
   "source": [
    "# Print results\n",
    "for label, prob in zip(labels, probs[0]):\n",
    "    print(f\"{label}: {prob:.4f}\")"
   ]
  }
 ],
 "metadata": {
  "kernelspec": {
   "display_name": "Python 3",
   "language": "python",
   "name": "python3"
  },
  "language_info": {
   "codemirror_mode": {
    "name": "ipython",
    "version": 3
   },
   "file_extension": ".py",
   "mimetype": "text/x-python",
   "name": "python",
   "nbconvert_exporter": "python",
   "pygments_lexer": "ipython3",
   "version": "3.13.3"
  }
 },
 "nbformat": 4,
 "nbformat_minor": 5
}
